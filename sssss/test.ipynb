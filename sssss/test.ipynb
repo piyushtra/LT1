{
 "metadata": {
  "language_info": {
   "codemirror_mode": {
    "name": "ipython",
    "version": 3
   },
   "file_extension": ".py",
   "mimetype": "text/x-python",
   "name": "python",
   "nbconvert_exporter": "python",
   "pygments_lexer": "ipython3",
   "version": "3.8.5-final"
  },
  "orig_nbformat": 2,
  "kernelspec": {
   "name": "python3",
   "display_name": "Python 3.8.5 64-bit ('venv')",
   "metadata": {
    "interpreter": {
     "hash": "78b42be1c40e5ab21a98f64797b61aaba3f93c94f503785d8e0a844b0dabc486"
    }
   }
  }
 },
 "nbformat": 4,
 "nbformat_minor": 2,
 "cells": [
  {
   "cell_type": "code",
   "execution_count": 1,
   "metadata": {},
   "outputs": [],
   "source": [
    "st = \"piyush\""
   ]
  },
  {
   "cell_type": "code",
   "execution_count": 5,
   "metadata": {},
   "outputs": [
    {
     "output_type": "execute_result",
     "data": {
      "text/plain": [
       "'hsuyip'"
      ]
     },
     "metadata": {},
     "execution_count": 5
    }
   ],
   "source": [
    "st[::-1]"
   ]
  },
  {
   "cell_type": "code",
   "execution_count": 8,
   "metadata": {},
   "outputs": [
    {
     "output_type": "execute_result",
     "data": {
      "text/plain": [
       "'hsuy'"
      ]
     },
     "metadata": {},
     "execution_count": 8
    }
   ],
   "source": [
    "st[-1:1:-1]"
   ]
  },
  {
   "cell_type": "code",
   "execution_count": 9,
   "metadata": {},
   "outputs": [
    {
     "output_type": "error",
     "ename": "FileNotFoundError",
     "evalue": "[Errno 2] No such file or directory: 'xyz.txt'",
     "traceback": [
      "\u001b[0;31m---------------------------------------------------------------------------\u001b[0m",
      "\u001b[0;31mFileNotFoundError\u001b[0m                         Traceback (most recent call last)",
      "\u001b[0;32m<ipython-input-9-28ebca5042f3>\u001b[0m in \u001b[0;36m<module>\u001b[0;34m\u001b[0m\n\u001b[1;32m      1\u001b[0m \u001b[0;32mimport\u001b[0m \u001b[0mos\u001b[0m\u001b[0;34m\u001b[0m\u001b[0;34m\u001b[0m\u001b[0m\n\u001b[0;32m----> 2\u001b[0;31m \u001b[0mos\u001b[0m\u001b[0;34m.\u001b[0m\u001b[0mremove\u001b[0m\u001b[0;34m(\u001b[0m\u001b[0;34m\"xyz.txt\"\u001b[0m\u001b[0;34m)\u001b[0m\u001b[0;34m\u001b[0m\u001b[0;34m\u001b[0m\u001b[0m\n\u001b[0m",
      "\u001b[0;31mFileNotFoundError\u001b[0m: [Errno 2] No such file or directory: 'xyz.txt'"
     ]
    }
   ],
   "source": [
    "import os\n",
    "os.remove(\"xyz.txt\")"
   ]
  },
  {
   "cell_type": "code",
   "execution_count": 2,
   "metadata": {},
   "outputs": [
    {
     "output_type": "stream",
     "name": "stdout",
     "text": [
      "abc\n"
     ]
    }
   ],
   "source": [
    "class Employee:\n",
    "    def __init__(self, name):\n",
    "        self.name = name\n",
    "E1=Employee(\"abc\")\n",
    "print(E1.name)"
   ]
  },
  {
   "cell_type": "code",
   "execution_count": 8,
   "metadata": {},
   "outputs": [
    {
     "output_type": "stream",
     "name": "stdout",
     "text": [
      "2347\n"
     ]
    }
   ],
   "source": [
    "SOME_LARGE_FILE = \"../PTTL/drug200.csv\"\n",
    "with open(SOME_LARGE_FILE) as fh:\n",
    "    count = 0\n",
    "    text = fh.read()\n",
    "    for character in text:\n",
    "        if character.isupper():\n",
    "            count += 1\n",
    "\n",
    "\n",
    "print(count)"
   ]
  },
  {
   "cell_type": "code",
   "execution_count": 13,
   "metadata": {},
   "outputs": [
    {
     "output_type": "stream",
     "name": "stdout",
     "text": [
      "2347\n"
     ]
    }
   ],
   "source": [
    "SOME_LARGE_FILE = \"../PTTL/drug200.csv\"\n",
    "with open(SOME_LARGE_FILE) as fh:\n",
    "    count =  sum(1 for echLine in fh for charrr in echLine if charrr.isupper())\n",
    "print(count)"
   ]
  },
  {
   "source": [
    "# Selection Sort"
   ],
   "cell_type": "markdown",
   "metadata": {}
  },
  {
   "cell_type": "code",
   "execution_count": 14,
   "metadata": {},
   "outputs": [
    {
     "output_type": "stream",
     "name": "stdout",
     "text": [
      "[1, 2, 3, 4, 4, 4, 6, 8]\n"
     ]
    }
   ],
   "source": [
    "a=[3,4,1,4,2,6,8,4]\n",
    "sorteda=[]\n",
    "ln = len(a)\n",
    "for each in range(ln):\n",
    "    minn =  min(a)\n",
    "    sorteda.append(minn)\n",
    "    a.remove(minn)\n",
    "\n",
    "print(sorteda)"
   ]
  },
  {
   "source": [
    "## Bubble sort"
   ],
   "cell_type": "markdown",
   "metadata": {}
  },
  {
   "cell_type": "code",
   "execution_count": 21,
   "metadata": {},
   "outputs": [
    {
     "output_type": "stream",
     "name": "stdout",
     "text": [
      "[1, 2, 3, 4, 4, 4, 6, 8]\n"
     ]
    }
   ],
   "source": [
    "a=[3,4,1,4,2,6,8,4]\n",
    "sorteda=[]\n",
    "ln = len(a)\n",
    "for ntime in range(ln):\n",
    "    swap_count = 0\n",
    "    #print(ln)\n",
    "    for i in range(ln-1):\n",
    "        #print(i)\n",
    "        if a[i]>a[i+1]:\n",
    "            x = a[i]\n",
    "            y = a[i+1]\n",
    "            a[i] = y\n",
    "            a[i+1] = x\n",
    "            swap_count = swap_count +1\n",
    "    if swap_count==0:\n",
    "        break\n",
    "print(a)"
   ]
  },
  {
   "cell_type": "code",
   "execution_count": 22,
   "metadata": {},
   "outputs": [],
   "source": [
    "# An optimized version of Bubble Sort \n",
    "def bubbleSort(arr): \n",
    "    n = len(arr) \n",
    "   \n",
    "    # Traverse through all array elements \n",
    "    for i in range(n): \n",
    "        swapped = False\n",
    "  \n",
    "        # Last i elements are already \n",
    "        #  in place \n",
    "        for j in range(0, n-i-1): \n",
    "   \n",
    "            # traverse the array from 0 to \n",
    "            # n-i-1. Swap if the element  \n",
    "            # found is greater than the \n",
    "            # next element \n",
    "            if arr[j] > arr[j+1] : \n",
    "                arr[j], arr[j+1] = arr[j+1], arr[j] \n",
    "                swapped = True\n",
    "  \n",
    "        # IF no two elements were swapped \n",
    "        # by inner loop, then break \n",
    "        if swapped == False: \n",
    "            break"
   ]
  },
  {
   "cell_type": "code",
   "execution_count": 23,
   "metadata": {},
   "outputs": [
    {
     "output_type": "execute_result",
     "data": {
      "text/plain": [
       "'Worst and Average Case Time Complexity: O(n*n). Worst case occurs when array is reverse sorted.\\n\\nBest Case Time Complexity: O(n). Best case occurs when array is already sorted.\\n\\nAuxiliary Space: O(1)\\n\\nBoundary Cases: Bubble sort takes minimum time (Order of n) when elements are already sorted.'"
      ]
     },
     "metadata": {},
     "execution_count": 23
    }
   ],
   "source": [
    "'''Worst and Average Case Time Complexity: O(n*n). Worst case occurs when array is reverse sorted.\n",
    "\n",
    "Best Case Time Complexity: O(n). Best case occurs when array is already sorted.\n",
    "\n",
    "Auxiliary Space: O(1)\n",
    "\n",
    "Boundary Cases: Bubble sort takes minimum time (Order of n) when elements are already sorted.'''"
   ]
  },
  {
   "source": [
    "## insertion sort"
   ],
   "cell_type": "markdown",
   "metadata": {}
  },
  {
   "cell_type": "code",
   "execution_count": 29,
   "metadata": {},
   "outputs": [
    {
     "output_type": "stream",
     "name": "stdout",
     "text": [
      "[1, 2, 3, 4, 4, 4, 6, 8]\n"
     ]
    }
   ],
   "source": [
    "a=[3,4,1,4,2,6,8,4]\n",
    "ln = len(a)\n",
    "for i in range(1,ln):\n",
    "    for j in range(0,i,1):\n",
    "        if a[i] < a[j]:\n",
    "            temp = a[i]\n",
    "            del a[i]\n",
    "            a.insert(j,temp)\n",
    "            \n",
    "\n",
    "print(a)"
   ]
  },
  {
   "source": [
    "Time Complexity: O(n*2)\n",
    "\n",
    "Auxiliary Space: O(1)\n",
    "\n",
    "Boundary Cases: Insertion sort takes maximum time to sort if elements are sorted in reverse order. And it takes minimum time (Order of n) when elements are already sorted.\n",
    "\n",
    "Algorithmic Paradigm: Incremental Approach\n",
    "\n",
    "Sorting In Place: Yes\n",
    "\n",
    "Stable: Yes\n",
    "\n",
    "Online: Yes\n",
    "\n",
    "Uses: Insertion sort is used when number of elements is small. It can also be useful when input array is almost sorted, only few elements are misplaced in complete big array.\n",
    "\n",
    "What is Binary Insertion Sort?\n",
    "We can use binary search to reduce the number of comparisons in normal insertion sort. Binary Insertion Sort uses binary search to find the proper location to insert the selected item at each iteration. In normal insertion, sorting takes O(i) (at ith iteration) in worst case. We can reduce it to O(logi) by using binary search. The algorithm, as a whole, still has a running worst case running time of O(n2) because of the series of swaps required for each insertion. Refer this for implementation."
   ],
   "cell_type": "markdown",
   "metadata": {}
  },
  {
   "cell_type": "code",
   "execution_count": 1,
   "metadata": {},
   "outputs": [
    {
     "output_type": "stream",
     "name": "stdout",
     "text": [
      ":A\n"
     ]
    }
   ],
   "source": [
    "print(\":A\")"
   ]
  },
  {
   "cell_type": "code",
   "execution_count": 7,
   "metadata": {},
   "outputs": [
    {
     "output_type": "stream",
     "name": "stdout",
     "text": [
      "3\n"
     ]
    }
   ],
   "source": [
    "class subject:\n",
    "    def __init__(self,subjectname,starttime,endtime):\n",
    "        self.subjectname = subjectname\n",
    "        self.starttime = starttime\n",
    "        self.endtime = endtime\n",
    "\n",
    "import datetime\n",
    "\n",
    "\n",
    "testcases = int(input())\n",
    "for eachCase in range(testcases):\n",
    "    n_sub = int(input())\n",
    "    lst=[]\n",
    "    oblst = []\n",
    "    dictt = {}\n",
    "    for eachsub in range(n_sub):\n",
    "        sub_time = input()\n",
    "        lst.append(sub_time)\n",
    "        sub_time_arr = sub_time.split()\n",
    "        subject_name = sub_time_arr[0]\n",
    "        timing = sub_time_arr[1].replace(\":\",\".\")+\" \"+sub_time_arr[2].replace(\":\",\".\")\n",
    "        dictt[subject_name]=timing\n",
    "        start_date_time_str = sub_time_arr[1]#'2018-06-29 08:15:27.243860'\n",
    "        end_date_time_str = sub_time_arr[2]#'2018-06-29 08:15:27.243860'\n",
    "        start_date_time_obj = datetime.datetime.strptime(start_date_time_str, '%H:%M')\n",
    "        end_date_time_obj = datetime.datetime.strptime(end_date_time_str, '%H:%M')\n",
    "        subjectobj = subject(subject_name,start_date_time_obj,end_date_time_obj)\n",
    "        oblst.append(subjectobj)\n",
    "\n",
    "    sorted_by_endtime = sorted(oblst, key=lambda x: x.endtime)\n",
    "    subjectlsit=[]\n",
    "    for each in sorted_by_endtime:\n",
    "        #print(each.subjectname)\n",
    "        #print(each.endtime)    \n",
    "        if len(subjectlsit)==0:\n",
    "            subjectlsit.append(each)\n",
    "        else:\n",
    "            if each.starttime >= subjectlsit[-1].endtime:\n",
    "                subjectlsit.append(each)\n",
    "    print(len(subjectlsit))"
   ]
  },
  {
   "cell_type": "code",
   "execution_count": 12,
   "metadata": {},
   "outputs": [
    {
     "output_type": "stream",
     "name": "stdout",
     "text": [
      "2\n"
     ]
    }
   ],
   "source": [
    "arr=[4,3,4]\n",
    "def allEquals(arr):\n",
    "    x = arr[0]\n",
    "    for each in arr:\n",
    "        if x != each:\n",
    "            return False\n",
    "    return True\n",
    "\n",
    "count = 0\n",
    "while not allEquals(arr):\n",
    "    maxA = max(arr)\n",
    "    i = arr.index(maxA)\n",
    "    updatedArr = []\n",
    "    for index, each in enumerate(arr):\n",
    "        updateEach = 0\n",
    "        if index!=i:\n",
    "            updateEach = each+1\n",
    "        else:\n",
    "            updateEach = each\n",
    "        updatedArr.append(updateEach)\n",
    "    arr = updatedArr\n",
    "    count+=1\n",
    "print(count)"
   ]
  },
  {
   "cell_type": "code",
   "execution_count": 16,
   "metadata": {},
   "outputs": [
    {
     "output_type": "stream",
     "name": "stdout",
     "text": [
      "10\n"
     ]
    }
   ],
   "source": [
    "arr=[5, 6, 2, 4, 3]\n",
    "minA = min(arr)\n",
    "arr.remove(minA)\n",
    "count = 0\n",
    "for each in arr:\n",
    "    count = count + each - minA\n",
    "print(count)"
   ]
  },
  {
   "cell_type": "code",
   "execution_count": 22,
   "metadata": {},
   "outputs": [
    {
     "output_type": "stream",
     "name": "stdout",
     "text": [
      "sum([])=50\nsum([10])=50\nsum([10, 20])=50\nsum([10, 20, 15])=50\nsum([10, 30])=50\nsum([10, 15])=50\nsum([20])=50\nsum([20, 30])=50\nsum([20, 15])=50\nsum([30])=50\nsum([30, 15])=50\nsum([15])=50\nNone\n"
     ]
    }
   ],
   "source": [
    "v=[60,100,120,150]\n",
    "w=[10,20,30,15]\n",
    "maxx = 50\n",
    "\n",
    "def subset_sum(numbers, target, partial=[]):\n",
    "    s = sum(partial)\n",
    "\n",
    "    # check if the partial sum is equals to target\n",
    "    if s <= target: \n",
    "        print(\"sum(%s)=%s\" % (partial, target))\n",
    "    if s >= target:\n",
    "        return  # if we reach the number why bother to continue\n",
    "\n",
    "    for i in range(len(numbers)):\n",
    "        n = numbers[i]\n",
    "        remaining = numbers[i+1:]\n",
    "        subset_sum(remaining, target, partial + [n]) \n",
    "\n",
    "\n",
    "allPncs = subset_sum(w,maxx)\n",
    "print(allPncs)"
   ]
  },
  {
   "cell_type": "code",
   "execution_count": 15,
   "metadata": {},
   "outputs": [
    {
     "output_type": "stream",
     "name": "stdout",
     "text": [
      "[1, 2, 7, 8, 8]\n"
     ]
    }
   ],
   "source": [
    "arr = [1, 3, 6, 4, 2]\n",
    "K = 10\n",
    "arr.sort()\n",
    "ele = int((len(arr)+1)/2)-1\n",
    "for each in range(K):\n",
    "    arr.sort()\n",
    "    arr[ele] = arr[ele]+1\n",
    "arr.sort()\n",
    "print(arr)"
   ]
  },
  {
   "cell_type": "code",
   "execution_count": 10,
   "metadata": {},
   "outputs": [
    {
     "output_type": "error",
     "ename": "TypeError",
     "evalue": "'str' object is not callable",
     "traceback": [
      "\u001b[0;31m---------------------------------------------------------------------------\u001b[0m",
      "\u001b[0;31mTypeError\u001b[0m                                 Traceback (most recent call last)",
      "\u001b[0;32m<ipython-input-10-6ec0b2552122>\u001b[0m in \u001b[0;36m<module>\u001b[0;34m\u001b[0m\n\u001b[1;32m     11\u001b[0m         \u001b[0mini\u001b[0m \u001b[0;34m=\u001b[0m \u001b[0mini\u001b[0m \u001b[0;34m+\u001b[0m \u001b[0meach\u001b[0m\u001b[0;34m\u001b[0m\u001b[0;34m\u001b[0m\u001b[0m\n\u001b[1;32m     12\u001b[0m         \u001b[0ml\u001b[0m \u001b[0;34m=\u001b[0m \u001b[0meach\u001b[0m \u001b[0;34m+\u001b[0m \u001b[0ml\u001b[0m\u001b[0;34m\u001b[0m\u001b[0;34m\u001b[0m\u001b[0m\n\u001b[0;32m---> 13\u001b[0;31m \u001b[0mprint\u001b[0m\u001b[0;34m(\u001b[0m\u001b[0mstr\u001b[0m\u001b[0;34m(\u001b[0m\u001b[0mini\u001b[0m\u001b[0;34m)\u001b[0m\u001b[0;34m+\u001b[0m\u001b[0mstr\u001b[0m\u001b[0;34m(\u001b[0m\u001b[0mm\u001b[0m\u001b[0;34m)\u001b[0m\u001b[0;34m+\u001b[0m\u001b[0mstr\u001b[0m\u001b[0;34m(\u001b[0m\u001b[0ml\u001b[0m\u001b[0;34m)\u001b[0m\u001b[0;34m)\u001b[0m\u001b[0;34m\u001b[0m\u001b[0;34m\u001b[0m\u001b[0m\n\u001b[0m",
      "\u001b[0;31mTypeError\u001b[0m: 'str' object is not callable"
     ]
    }
   ],
   "source": [
    "str=\"abababcba\"\n",
    "ini=\"\"\n",
    "l=\"\"\n",
    "m=\"\"\n",
    "ss = str.split()\n",
    "for index,each in enumerate(ss):\n",
    "    i = str.rfind(each)\n",
    "    if index == i :\n",
    "        m = each\n",
    "    else:\n",
    "        ini = ini + each\n",
    "        l = each + l\n",
    "print(str(ini)+str(m)+str(l))\n"
   ]
  },
  {
   "cell_type": "code",
   "execution_count": 16,
   "metadata": {},
   "outputs": [
    {
     "output_type": "error",
     "ename": "IndentationError",
     "evalue": "unindent does not match any outer indentation level (<tokenize>, line 34)",
     "traceback": [
      "\u001b[0;36m  File \u001b[0;32m\"<tokenize>\"\u001b[0;36m, line \u001b[0;32m34\u001b[0m\n\u001b[0;31m    print(L)\u001b[0m\n\u001b[0m    ^\u001b[0m\n\u001b[0;31mIndentationError\u001b[0m\u001b[0;31m:\u001b[0m unindent does not match any outer indentation level\n"
     ]
    }
   ],
   "source": [
    "  # Python3 implementation to find \n",
    "# minimum number of deletions\n",
    "# to make a string palindromic\n",
    "\n",
    "# Returns the length of \n",
    "# the longest palindromic \n",
    "# subsequence in 'str'\n",
    "def lps(str):\n",
    "\tn = len(str)\n",
    "\n",
    "\t# Create a table to store\n",
    "\t# results of subproblems\n",
    "\tL = [[0 for x in range(n)]for y in range(n)]\n",
    "\n",
    "\t# Strings of length 1\n",
    "\t# are palindrome of length 1\n",
    "\tfor i in range(n):\n",
    "\t\tL[i][i] = 1\n",
    "\n",
    "\t# Build the table. Note that \n",
    "\t# the lower diagonal values \n",
    "\t# of table are useless and \n",
    "\t# not filled in the process. \n",
    "\t# c1 is length of substring\n",
    "\tfor cl in range( 2, n+1):\n",
    "\t\tfor i in range(n - cl + 1):\n",
    "\t\t\tj = i + cl - 1\n",
    "\t\t\tif (str[i] == str[j] and cl == 2):\n",
    "\t\t\t\tL[i][j] = 2\n",
    "\t\t\telif (str[i] == str[j]):\n",
    "\t\t\t\tL[i][j] = L[i + 1][j - 1] + 2\n",
    "\t\t\telse:\n",
    "\t\t\t\tL[i][j] = max(L[i][j - 1],L[i + 1][j])\n",
    "    \n",
    "\t# length of longest\n",
    "\t# palindromic subseq\n",
    "    print(L)\n",
    "\treturn L[0][n - 1]\n",
    "\n",
    "# function to calculate \n",
    "# minimum number of deletions\n",
    "def minimumNumberOfDeletions( str):\n",
    "\n",
    "\tn = len(str)\n",
    "\n",
    "\t# Find longest palindromic \n",
    "\t# subsequence\n",
    "\tl = lps(str)\n",
    "    \n",
    "\n",
    "\t# After removing characters \n",
    "\t# other than the lps, we \n",
    "\t# get palindrome.\n",
    "\treturn (n - l)\n",
    "\n",
    "# Driver Code\n",
    "if __name__ == \"__main__\":\n",
    "\t\n",
    "\tstr = \"geeksforgeeks\"\n",
    "\tprint( \"Minimum number of deletions = \"\n",
    "\t\t, minimumNumberOfDeletions(str))\n"
   ]
  },
  {
   "cell_type": "code",
   "execution_count": null,
   "metadata": {},
   "outputs": [],
   "source": []
  }
 ]
}