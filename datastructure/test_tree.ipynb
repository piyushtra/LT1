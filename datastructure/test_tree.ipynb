{
 "cells": [
  {
   "cell_type": "code",
   "execution_count": 121,
   "id": "commercial-highlight",
   "metadata": {},
   "outputs": [],
   "source": [
    "class Tree:\n",
    "    def __init__(self, data, left=None, right=None):\n",
    "        self.left = left\n",
    "        self.right = right\n",
    "        self.data = data\n",
    "        \n",
    "    def insert(self,data):\n",
    "        if self.data:\n",
    "            if data == self.data:\n",
    "                return False\n",
    "            elif data < self.data:\n",
    "                if self.left is None:\n",
    "                    self.left = Tree(data)\n",
    "                    return True\n",
    "                else:\n",
    "                    return self.left.insert(data)\n",
    "            else :\n",
    "                if self.right is None:\n",
    "                    self.right = Tree(data)\n",
    "                    return True\n",
    "                else:\n",
    "                    return self.right.insert(data)\n",
    "                    \n",
    "        else:\n",
    "            self.data = data\n",
    "            \n",
    "    def preorder_print(self):\n",
    "        if self is not None:\n",
    "            print(self.data, end=\" \")\n",
    "            if self.left is not None:\n",
    "                self.left.preorder_print()\n",
    "            if self.right:\n",
    "                self.right.preorder_print()\n",
    "                \n",
    "    def inorder_print(self):\n",
    "        if self is not None:\n",
    "            if self.left is not None:\n",
    "                self.left.inorder_print()\n",
    "            print(self.data, end=\" \")\n",
    "            if self.right is not None:\n",
    "                self.right.inorder_print()\n",
    "                \n",
    "    def postorder_print(self):\n",
    "        if self is not None:\n",
    "            if self.left is not None:\n",
    "                self.left.inorder_print()\n",
    "            \n",
    "            if self.right is not None:\n",
    "                self.right.inorder_print()\n",
    "            print(self.data, end=\" \")\n",
    "                \n",
    "    def find(self,data):\n",
    "        if self.data == data:\n",
    "            return True\n",
    "        else:\n",
    "            if data < self.data:\n",
    "                if self.left is not None:\n",
    "                    return self.left.find(data)\n",
    "                else:\n",
    "                    return False\n",
    "            else:\n",
    "                if self.right is not None:\n",
    "                    return self.right.find(data)\n",
    "                else:\n",
    "                    return False\n",
    "    \n",
    "    def f_size(self ):\n",
    "        if self.left is not None and self.right is not None:\n",
    "            return 1+self.left.f_size()+self.right.f_size()\n",
    "        elif self.left:\n",
    "            return 1+self.left.f_size()\n",
    "        elif self.right:\n",
    "            return 1+self.right.f_size()\n",
    "        else:\n",
    "            return  1                \n"
   ]
  },
  {
   "cell_type": "code",
   "execution_count": 122,
   "id": "useful-realtor",
   "metadata": {},
   "outputs": [
    {
     "data": {
      "text/plain": [
       "True"
      ]
     },
     "execution_count": 122,
     "metadata": {},
     "output_type": "execute_result"
    }
   ],
   "source": [
    "tree = Tree(6)\n",
    "tree.insert(1)\n",
    "tree.insert(8)\n",
    "tree.insert(3)"
   ]
  },
  {
   "cell_type": "code",
   "execution_count": 123,
   "id": "split-pursuit",
   "metadata": {},
   "outputs": [
    {
     "name": "stdout",
     "output_type": "stream",
     "text": [
      "6 1 3 8 "
     ]
    }
   ],
   "source": [
    "tree.preorder_print()"
   ]
  },
  {
   "cell_type": "code",
   "execution_count": 124,
   "id": "moved-breakdown",
   "metadata": {},
   "outputs": [
    {
     "data": {
      "text/plain": [
       "False"
      ]
     },
     "execution_count": 124,
     "metadata": {},
     "output_type": "execute_result"
    }
   ],
   "source": [
    "tree.find(7)"
   ]
  },
  {
   "cell_type": "code",
   "execution_count": 125,
   "id": "gross-serbia",
   "metadata": {},
   "outputs": [
    {
     "name": "stdout",
     "output_type": "stream",
     "text": [
      "1 3 6 8 "
     ]
    }
   ],
   "source": [
    "tree.inorder_print()"
   ]
  },
  {
   "cell_type": "code",
   "execution_count": 126,
   "id": "basic-research",
   "metadata": {},
   "outputs": [
    {
     "name": "stdout",
     "output_type": "stream",
     "text": [
      "1 3 8 6 "
     ]
    }
   ],
   "source": [
    "tree.postorder_print()"
   ]
  },
  {
   "cell_type": "code",
   "execution_count": 127,
   "id": "million-physics",
   "metadata": {},
   "outputs": [
    {
     "data": {
      "text/plain": [
       "4"
      ]
     },
     "execution_count": 127,
     "metadata": {},
     "output_type": "execute_result"
    }
   ],
   "source": [
    "tree.f_size()"
   ]
  },
  {
   "cell_type": "code",
   "execution_count": null,
   "id": "stock-cooling",
   "metadata": {},
   "outputs": [],
   "source": []
  },
  {
   "cell_type": "code",
   "execution_count": null,
   "id": "plastic-purse",
   "metadata": {},
   "outputs": [],
   "source": []
  }
 ],
 "metadata": {
  "kernelspec": {
   "display_name": "Python 3",
   "language": "python",
   "name": "python3"
  },
  "language_info": {
   "codemirror_mode": {
    "name": "ipython",
    "version": 3
   },
   "file_extension": ".py",
   "mimetype": "text/x-python",
   "name": "python",
   "nbconvert_exporter": "python",
   "pygments_lexer": "ipython3",
   "version": "3.8.5"
  }
 },
 "nbformat": 4,
 "nbformat_minor": 5
}
