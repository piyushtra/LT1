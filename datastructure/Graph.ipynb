{
 "cells": [
  {
   "cell_type": "code",
   "execution_count": 23,
   "id": "architectural-science",
   "metadata": {},
   "outputs": [
    {
     "name": "stdout",
     "output_type": "stream",
     "text": [
      "['a', 'b', 'c', 'd', 'e']\n"
     ]
    }
   ],
   "source": [
    "class graph:\n",
    "    def __init__(self,gdict=None):\n",
    "        if gdict==None:\n",
    "            self.gdict=[]\n",
    "        else:\n",
    "            self.gdict=gdict\n",
    "            \n",
    "    def getVertices(self):\n",
    "        return list(self.gdict.keys())\n",
    "    \n",
    "    def getEdges(self):\n",
    "        lst = []\n",
    "        for eachPair in self.gdict:\n",
    "            for eachV in self.gdict[eachPair]:\n",
    "                if {eachV, eachPair} not in lst:\n",
    "                    lst.append({eachPair, eachV})\n",
    "                    \n",
    "        return lst\n",
    "    \n",
    "    def addVertices(self,vertex):\n",
    "        if vertex not in self.gdict.keys():\n",
    "            self.gdict[vertex]=[]\n",
    "            \n",
    "#     def addVertex(self, vrtx):\n",
    "#         if vrtx not in self.gdict:\n",
    "#             self.gdict[vrtx] = []\n",
    "\n",
    "    \n",
    "    def addEdge(self, edge):\n",
    "        edge = set(edge)\n",
    "        (vrtx1, vrtx2) = tuple(edge)\n",
    "        if vrtx1 in self.gdict:\n",
    "            self.gdict[vrtx1].append(vrtx2)\n",
    "        else:\n",
    "            self.gdict[vrtx1] = [vrtx2]\n",
    "\n",
    "# Create the dictionary with graph elements\n",
    "graph_elements = { \"a\" : [\"b\",\"c\"],\n",
    "                \"b\" : [\"a\", \"d\"],\n",
    "                \"c\" : [\"a\", \"d\"],\n",
    "                \"d\" : [\"e\"],\n",
    "                \"e\" : [\"d\"]\n",
    "                }\n",
    "g1 = graph(graph_elements)\n",
    "print(g1.getVertices())"
   ]
  },
  {
   "cell_type": "code",
   "execution_count": 24,
   "id": "cathedral-complaint",
   "metadata": {},
   "outputs": [
    {
     "name": "stdout",
     "output_type": "stream",
     "text": [
      "[{'a', 'b'}, {'a', 'c'}, {'b', 'd'}, {'d', 'c'}, {'e', 'd'}]\n"
     ]
    }
   ],
   "source": [
    "print(g1.getEdges())"
   ]
  },
  {
   "cell_type": "code",
   "execution_count": 25,
   "id": "prime-specialist",
   "metadata": {},
   "outputs": [
    {
     "name": "stdout",
     "output_type": "stream",
     "text": [
      "['a', 'b', 'c', 'd', 'e', 'f']\n"
     ]
    }
   ],
   "source": [
    "g1.addVertices(\"f\")\n",
    "print(g1.getVertices())"
   ]
  },
  {
   "cell_type": "code",
   "execution_count": 27,
   "id": "declared-lightning",
   "metadata": {},
   "outputs": [
    {
     "name": "stdout",
     "output_type": "stream",
     "text": [
      "[{'a', 'b'}, {'a', 'c'}, {'a', 'f'}, {'b', 'd'}, {'d', 'c'}, {'e', 'd'}]\n"
     ]
    }
   ],
   "source": [
    "g1.addEdge({\"f\",\"a\"})\n",
    "print(g1.getEdges())"
   ]
  },
  {
   "cell_type": "code",
   "execution_count": 28,
   "id": "spiritual-illustration",
   "metadata": {},
   "outputs": [
    {
     "data": {
      "text/plain": [
       "<__main__.graph at 0x7f76079e5d30>"
      ]
     },
     "execution_count": 28,
     "metadata": {},
     "output_type": "execute_result"
    }
   ],
   "source": [
    "g1"
   ]
  },
  {
   "cell_type": "code",
   "execution_count": null,
   "id": "apart-flavor",
   "metadata": {},
   "outputs": [],
   "source": []
  }
 ],
 "metadata": {
  "kernelspec": {
   "display_name": "Python 3",
   "language": "python",
   "name": "python3"
  },
  "language_info": {
   "codemirror_mode": {
    "name": "ipython",
    "version": 3
   },
   "file_extension": ".py",
   "mimetype": "text/x-python",
   "name": "python",
   "nbconvert_exporter": "python",
   "pygments_lexer": "ipython3",
   "version": "3.8.5"
  }
 },
 "nbformat": 4,
 "nbformat_minor": 5
}
